{
 "cells": [
  {
   "cell_type": "code",
   "execution_count": 1,
   "metadata": {},
   "outputs": [],
   "source": [
    "import json, requests\n",
    "from datetime import datetime\n",
    "from typing import Dict, List\n",
    "\n",
    "class Bot:\n",
    "    def __init__(self, filename : str = 'schedule.json') -> None:\n",
    "        assert len(filename) > 0, 'Пустое имя файла!'\n",
    "        self.filename : str = filename\n",
    "        self.base_url = 'https://api.telegram.org/bot1617354859:AAF_oiTlv9VYrjAbep1RJpXHkap0MPKfsBs/'\n",
    "#         self.chat_id = '-1001086397685' #отладка '-413206784'\n",
    "        self.send_message_url = f'{self.base_url}sendMessage?' #'#chat_id={self.chat_id}&text='\n",
    "#         self.get_updates_url = f'{self.base_url}getUpdates?chat_id={self.chat_id}'\n",
    "        \n",
    "        self.eng_days : List[str] = [\n",
    "            'Monday',\n",
    "            'Tuesday',\n",
    "            'Wednesday',\n",
    "            'Thursday',\n",
    "            'Friday',\n",
    "            'Saturday',\n",
    "            'Sunday',\n",
    "        ]\n",
    "        self.rus_days : List[str] = [\n",
    "            'Понедельник',\n",
    "            'Вторник',\n",
    "            'Среда',\n",
    "            'Четверг',\n",
    "            'Пятница',\n",
    "            'Суббота',\n",
    "            'Воскресенье'\n",
    "        ]\n",
    "        self.day : str = self.rus_days[self.eng_days.index(datetime.today().strftime('%A'))]\n",
    "        \n",
    "    \n",
    "    def load_data(self) -> None:\n",
    "        with open(self.filename, 'r', encoding = 'utf-8') as f:\n",
    "#             self.data : Dict[str, Dict[str, Dict[str, str]]] = json.load(f)\n",
    "            self.data = json.load(f)\n",
    "                \n",
    "            \n",
    "    def send_message_with_lessons(self) -> None:\n",
    "        message : str = ''\n",
    "        message += self.day.upper() + '\\n'\n",
    "        for group in self.data:\n",
    "            if self.day in self.data[group]['days']:\n",
    "                for lesson in self.data[group]['days'][self.day]:\n",
    "                    message += f'\\n\\t{lesson} пара: \\n'\n",
    "                    for key, value in self.data[group]['days'][self.day][lesson].items():\n",
    "                        message += f'\\t\\t{key}: {value} \\n'\n",
    "        #         message += '\\nАвтор бота @mad_clocks\\n'\n",
    "                for chat_id in self.data[group]['chat_id']['id']:\n",
    "                    url = self.send_message_url + f'chat_id={chat_id}&text={message}'\n",
    "                print(url)\n",
    "                requests.get(url + message)\n",
    "        \n",
    "    \n",
    "    def send(self) -> None:\n",
    "        for group in self.data:\n",
    "            if self.day in self.data[group]['days']:\n",
    "                message = f'🔴🔴🔴\\n{group}\\t{self.day}:\\n\\n'\n",
    "                for lesson in self.data[group]['days'][self.day]:\n",
    "                    for key, value in self.data[group]['days'][self.day][lesson].items():\n",
    "                        message += f'\\t{key}: {value}\\n'\n",
    "                    message += '\\n'\n",
    "                message += '\\n'\n",
    "                url = self.send_message_url + f'chat_id={self.data[group][\"chat_id\"][\"id\"]}&text='\n",
    "                requests.get(url + message)\n",
    "        \n",
    "    \n",
    "    def read_comand(self) -> None:\n",
    "        print(requests.get(self.get_updates_url).json())"
   ]
  },
  {
   "cell_type": "code",
   "execution_count": 153,
   "metadata": {},
   "outputs": [],
   "source": [
    "#B = Bot()"
   ]
  },
  {
   "cell_type": "code",
   "execution_count": 154,
   "metadata": {},
   "outputs": [],
   "source": [
    "#B.load_data()"
   ]
  },
  {
   "cell_type": "code",
   "execution_count": 155,
   "metadata": {},
   "outputs": [],
   "source": [
    "#B.send()"
   ]
  }
 ],
 "metadata": {
  "kernelspec": {
   "display_name": "Python 3",
   "language": "python",
   "name": "python3"
  },
  "language_info": {
   "codemirror_mode": {
    "name": "ipython",
    "version": 3
   },
   "file_extension": ".py",
   "mimetype": "text/x-python",
   "name": "python",
   "nbconvert_exporter": "python",
   "pygments_lexer": "ipython3",
   "version": "3.8.3"
  }
 },
 "nbformat": 4,
 "nbformat_minor": 4
}
