{
 "cells": [
  {
   "cell_type": "code",
   "execution_count": 7,
   "metadata": {},
   "outputs": [],
   "source": [
    "import json, requests\n",
    "from datetime import datetime\n",
    "from typing import Dict, List\n",
    "\n",
    "class Bot:\n",
    "    def __init__(self, filename : str = 'schedule.json') -> None:\n",
    "        assert len(filename) > 0, 'Пустое имя файла!'\n",
    "        self.filename : str = filename\n",
    "        self.base_url = 'https://api.telegram.org/bot1617354859:AAF_oiTlv9VYrjAbep1RJpXHkap0MPKfsBs/'\n",
    "        self.chat_id = '-1001086397685' #отладка '-413206784'\n",
    "        self.send_message_url = f'{self.base_url}sendMessage?chat_id={self.chat_id}&text='\n",
    "        self.get_updates_url = f'{self.base_url}getUpdates?chat_id={self.chat_id}'\n",
    "        \n",
    "        self.eng_days : List[str] = [\n",
    "            'Monday',\n",
    "            'Tuesday',\n",
    "            'Wednesday',\n",
    "            'Thursday',\n",
    "            'Friday',\n",
    "            'Saturday',\n",
    "            'Sunday',\n",
    "        ]\n",
    "        self.rus_days : List[str] = [\n",
    "            'Понедельник',\n",
    "            'Вторник',\n",
    "            'Среда',\n",
    "            'Четверг',\n",
    "            'Пятница',\n",
    "            'Суббота',\n",
    "            'Воскресенье'\n",
    "        ]\n",
    "        self.day : str = self.rus_days[self.eng_days.index(datetime.today().strftime('%A'))]\n",
    "        \n",
    "    \n",
    "    def load_data(self) -> None:\n",
    "        with open(self.filename, 'r', encoding = 'utf-8') as f:\n",
    "            self.data : Dict[str, Dict[str, Dict[str, str]]] = json.load(f)\n",
    "                \n",
    "            \n",
    "    def send_message_with_lessons(self) -> None:\n",
    "        message : str = ''\n",
    "        message += self.day.upper() + '\\n'\n",
    "        for lesson in self.data[self.day]:\n",
    "            message += f'\\n\\t{lesson} пара: \\n'\n",
    "            for key, value in self.data[self.day][lesson].items():\n",
    "                message += f'\\t\\t{key}: {value} \\n'\n",
    "#         message += '\\nАвтор бота @mad_clocks\\n'\n",
    "        requests.get(self.send_message_url + message)\n",
    "        \n",
    "    \n",
    "    def read_comand(self) -> None:\n",
    "        print(requests.get(self.get_updates_url).json())"
   ]
  },
  {
   "cell_type": "code",
   "execution_count": 8,
   "metadata": {},
   "outputs": [],
   "source": [
    "#B = Bot()"
   ]
  },
  {
   "cell_type": "code",
   "execution_count": 9,
   "metadata": {},
   "outputs": [],
   "source": [
    "#B.load_data()"
   ]
  },
  {
   "cell_type": "code",
   "execution_count": 10,
   "metadata": {},
   "outputs": [],
   "source": [
    "#B.send_message_with_lessons()"
   ]
  },
  {
   "cell_type": "code",
   "execution_count": 116,
   "metadata": {},
   "outputs": [
    {
     "name": "stdout",
     "output_type": "stream",
     "text": [
      "{'ok': True, 'result': [{'update_id': 703248738, 'message': {'message_id': 3, 'from': {'id': 868650075, 'is_bot': False, 'first_name': 'Коробка', 'last_name': 'Пересдач', 'username': 'x19bfeb3f9a56fd242ed8b900000000'}, 'chat': {'id': -413206784, 'title': 'FI73_lessons', 'type': 'group', 'all_members_are_administrators': True}, 'date': 1613665867, 'text': '/my_id @FI73_lessons_schedule_bot', 'entities': [{'offset': 0, 'length': 6, 'type': 'bot_command'}, {'offset': 7, 'length': 26, 'type': 'mention'}]}}, {'update_id': 703248739, 'message': {'message_id': 9, 'from': {'id': 868650075, 'is_bot': False, 'first_name': 'Коробка', 'last_name': 'Пересдач', 'username': 'x19bfeb3f9a56fd242ed8b900000000'}, 'chat': {'id': -413206784, 'title': 'FI73_lessons', 'type': 'group', 'all_members_are_administrators': True}, 'date': 1613670463, 'text': '/sosi', 'entities': [{'offset': 0, 'length': 5, 'type': 'bot_command'}]}}, {'update_id': 703248740, 'message': {'message_id': 10, 'from': {'id': 868650075, 'is_bot': False, 'first_name': 'Коробка', 'last_name': 'Пересдач', 'username': 'x19bfeb3f9a56fd242ed8b900000000'}, 'chat': {'id': -413206784, 'title': 'FI73_lessons', 'type': 'group', 'all_members_are_administrators': True}, 'date': 1613670482, 'text': '/get_schedule', 'entities': [{'offset': 0, 'length': 13, 'type': 'bot_command'}]}}, {'update_id': 703248741, 'message': {'message_id': 11, 'from': {'id': 868650075, 'is_bot': False, 'first_name': 'Коробка', 'last_name': 'Пересдач', 'username': 'x19bfeb3f9a56fd242ed8b900000000'}, 'chat': {'id': -413206784, 'title': 'FI73_lessons', 'type': 'group', 'all_members_are_administrators': True}, 'date': 1613670489, 'text': '/расписание'}}]}\n"
     ]
    }
   ],
   "source": [
    "#B.read_comand()"
   ]
  }
 ],
 "metadata": {
  "kernelspec": {
   "display_name": "Python 3",
   "language": "python",
   "name": "python3"
  },
  "language_info": {
   "codemirror_mode": {
    "name": "ipython",
    "version": 3
   },
   "file_extension": ".py",
   "mimetype": "text/x-python",
   "name": "python",
   "nbconvert_exporter": "python",
   "pygments_lexer": "ipython3",
   "version": "3.8.3"
  }
 },
 "nbformat": 4,
 "nbformat_minor": 4
}
