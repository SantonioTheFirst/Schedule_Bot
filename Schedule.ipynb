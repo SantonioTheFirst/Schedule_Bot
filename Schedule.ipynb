{
 "cells": [
  {
   "cell_type": "code",
   "execution_count": 1,
   "metadata": {},
   "outputs": [],
   "source": [
    "from typing import List, Dict\n",
    "import json"
   ]
  },
  {
   "cell_type": "code",
   "execution_count": 53,
   "metadata": {},
   "outputs": [],
   "source": [
    "class Schedule:\n",
    "    def __init__(self, schedule_filename : str = 'schedule.json', count_of_days : int = 5) -> None:\n",
    "        assert len(schedule_filename) > 0, 'Пустое имя файла!'\n",
    "        assert count_of_days > 0, 'Количество дней должно быть > 0'\n",
    "        \n",
    "        self.schedule_filename : str = schedule_filename\n",
    "        self.count_of_days : int = count_of_days\n",
    "        print('Введите дни с занятиями по порядку:')\n",
    "        \n",
    "        self.days : List[str] = [input('День: ') for _ in range(self.count_of_days)]\n",
    "        self.schedule : Dict[str, Dict[str, Dict[str, str]]] = {day : {} for day in self.days}\n",
    "\n",
    "        \n",
    "    def append_lesson(self) -> None:\n",
    "        day : str = input('День: ')\n",
    "        assert day in self.days, 'Такого дня не было в списке дней'\n",
    "        \n",
    "#         number : int = len(self.schedule[day]) + 1\n",
    "        param_name : List[str] = ['Номер пары', 'Название предмета', 'Ссылка', 'Начало']\n",
    "        param_data : List[str] = [input(f'{param}: ') for param in param_name]\n",
    "        if len(self.schedule[day]) == 0:\n",
    "            self.schedule[day] = {}\n",
    "        self.schedule[day][param_data[0]] = {par_n : par_d for par_n, par_d in zip(param_name, param_data[1:])}\n",
    "       \n",
    "    \n",
    "    def append_lessons_for_all_days(self) -> None:\n",
    "        for day in self.days:\n",
    "            number_of_lessons : int = int(input(f'Количество занятий в {day}: '))\n",
    "            assert day in self.days, 'Такого дня не было в списке дней'\n",
    "            assert number_of_lessons > 0, 'Количество занятий не может быть < 1'\n",
    "            for i in range(number_of_lessons):\n",
    "                param_name : List[str] = ['Номер пары', 'Название предмета', 'Ссылка', 'Начало']\n",
    "                param_data : List[str] = [input(f'{param}: ') for param in param_name]\n",
    "                if len(self.schedule[day]) == 0:\n",
    "                    self.schedule[day] = {}\n",
    "                self.schedule[day][param_data[0]] = {par_n : par_d for par_n, par_d in zip(param_name[1 :], param_data[1:])}\n",
    "    \n",
    "    \n",
    "    def get_days(self) -> List[str]:\n",
    "        return self.days\n",
    "    \n",
    "    \n",
    "    def get_schedule_filename(self) -> str:\n",
    "        return self.schedule_filename\n",
    "        \n",
    "        \n",
    "    def get_schedule(self) -> Dict[str, Dict[str, Dict[str, str]]]:\n",
    "        return self.schedule\n",
    "    \n",
    "    \n",
    "    def create_json_file(self) -> None:\n",
    "        with open(f'{self.schedule_filename}', 'w', encoding = 'utf-8') as f:\n",
    "            json.dump(self.schedule, f, indent = 4)"
   ]
  },
  {
   "cell_type": "code",
   "execution_count": 65,
   "metadata": {},
   "outputs": [],
   "source": [
    "def main():\n",
    "#     filename : str = input('Название файла: ')\n",
    "#     count : int = int(input('Количество дней: '))\n",
    "    S = Schedule(count_of_days = 4)\n",
    "    S.append_lessons_for_all_days()\n",
    "    print(S.get_schedule())\n",
    "    S.create_json_file()"
   ]
  },
  {
   "cell_type": "code",
   "execution_count": 67,
   "metadata": {},
   "outputs": [
    {
     "name": "stdout",
     "output_type": "stream",
     "text": [
      "Введите дни с занятиями по порядку:\n",
      "День: Вторник\n",
      "День: Среда\n",
      "День: Четверг\n",
      "День: Пятница\n",
      "Количество занятий в Вторник: 1\n",
      "Номер пары: 2\n",
      "Название предмета: Анализ данных л/р\n",
      "Ссылка: https://us04web.zoom.us/j/8402679888?pwd=ZTRQNzA1MVBmeVV0SEl5VTBjdDFrdz09\n",
      "Начало: 10:25\n",
      "Количество занятий в Среда: 4\n",
      "Номер пары: 1\n",
      "Название предмета: Методы теории надежности и риска лекц.\n",
      "Ссылка: https://us04web.zoom.us/j/7620255592?pwd=RFRveFIrbWR0TWIzRmRleHhOTjV5QT09\n",
      "Начало: 8:30\n",
      "Номер пары: 2\n",
      "Название предмета: Анализ данных лекц.\n",
      "Ссылка: https://us04web.zoom.us/j/8402679888?pwd=ZTRQNzA1MVBmeVV0SEl5VTBjdDFrdz09\n",
      "Начало: 10:25\n",
      "Номер пары: 3\n",
      "Название предмета: Анализ данных лекц. 2\n",
      "Ссылка: https://us04web.zoom.us/j/8402679888?pwd=ZTRQNzA1MVBmeVV0SEl5VTBjdDFrdz09\n",
      "Начало: 12:20\n",
      "Номер пары: 4\n",
      "Название предмета: Основы нелинейного анализа лекц.\n",
      "Ссылка: https://zoom.us/j/95012997687?pwd=VktkcHo1eE1UYkRQNk95Vlp0WlArZz09\n",
      "Начало: 14:15 (14:30)\n",
      "Количество занятий в Четверг: 5\n",
      "Номер пары: 1\n",
      "Название предмета: Спец. разделы криптографии лекц.\n",
      "Ссылка: https://us04web.zoom.us/j/2179124171?pwd=V2ZrOVVRRTlrellFc1VaU1dqdHFhUT09\n",
      "Начало: 8:30 (9:00)\n",
      "Номер пары: 2\n",
      "Название предмета: Спец. разделы криптографии л/р\n",
      "Ссылка: https://us04web.zoom.us/j/74059992745?pwd=SlIxR2pibEdteXc5R1RUZjRCSE56dz09\n",
      "Начало: 10:25\n",
      "Номер пары: 3\n",
      "Название предмета: Основы нелинейного анализа лекц.\n",
      "Ссылка: https://zoom.us/j/98391824708?pwd=VGY3ejZGaFFCZzlnODJnSElGNW5hZz09\n",
      "Начало: 12:20 (12:30)\n",
      "Номер пары: 4\n",
      "Название предмета: Основы нелинейного анализа пр.\n",
      "Ссылка: https://zoom.us/j/98391824708?pwd=VGY3ejZGaFFCZzlnODJnSElGNW5hZz09\n",
      "Начало: 14:15 (14:30)\n",
      "Номер пары: 5\n",
      "Название предмета: Спец. разделы криптографии лекц. 2\n",
      "Ссылка: Должна быть на почте\n",
      "Начало: 16:10\n",
      "Количество занятий в Пятница: 1\n",
      "Номер пары: 1\n",
      "Название предмета: Методы теории надежности и риска пр.\n",
      "Ссылка: https://us04web.zoom.us/j/7620255592?pwd=RFRveFIrbWR0TWIzRmRleHhOTjV5QT09\n",
      "Начало: 8:30\n",
      "{'Вторник': {'2': {'Название предмета': 'Анализ данных л/р', 'Ссылка': 'https://us04web.zoom.us/j/8402679888?pwd=ZTRQNzA1MVBmeVV0SEl5VTBjdDFrdz09', 'Начало': '10:25'}}, 'Среда': {'1': {'Название предмета': 'Методы теории надежности и риска лекц.', 'Ссылка': 'https://us04web.zoom.us/j/7620255592?pwd=RFRveFIrbWR0TWIzRmRleHhOTjV5QT09', 'Начало': '8:30'}, '2': {'Название предмета': 'Анализ данных лекц.', 'Ссылка': 'https://us04web.zoom.us/j/8402679888?pwd=ZTRQNzA1MVBmeVV0SEl5VTBjdDFrdz09', 'Начало': '10:25'}, '3': {'Название предмета': 'Анализ данных лекц. 2', 'Ссылка': 'https://us04web.zoom.us/j/8402679888?pwd=ZTRQNzA1MVBmeVV0SEl5VTBjdDFrdz09', 'Начало': '12:20'}, '4': {'Название предмета': 'Основы нелинейного анализа лекц.', 'Ссылка': 'https://zoom.us/j/95012997687?pwd=VktkcHo1eE1UYkRQNk95Vlp0WlArZz09', 'Начало': '14:15 (14:30)'}}, 'Четверг': {'1': {'Название предмета': 'Спец. разделы криптографии лекц.', 'Ссылка': 'https://us04web.zoom.us/j/2179124171?pwd=V2ZrOVVRRTlrellFc1VaU1dqdHFhUT09', 'Начало': '8:30 (9:00)'}, '2': {'Название предмета': 'Спец. разделы криптографии л/р', 'Ссылка': 'https://us04web.zoom.us/j/74059992745?pwd=SlIxR2pibEdteXc5R1RUZjRCSE56dz09', 'Начало': '10:25'}, '3': {'Название предмета': 'Основы нелинейного анализа лекц.', 'Ссылка': 'https://zoom.us/j/98391824708?pwd=VGY3ejZGaFFCZzlnODJnSElGNW5hZz09', 'Начало': '12:20 (12:30)'}, '4': {'Название предмета': 'Основы нелинейного анализа пр.', 'Ссылка': 'https://zoom.us/j/98391824708?pwd=VGY3ejZGaFFCZzlnODJnSElGNW5hZz09', 'Начало': '14:15 (14:30)'}, '5': {'Название предмета': 'Спец. разделы криптографии лекц. 2', 'Ссылка': 'Должна быть на почте', 'Начало': '16:10'}}, 'Пятница': {'1': {'Название предмета': 'Методы теории надежности и риска пр.', 'Ссылка': 'https://us04web.zoom.us/j/7620255592?pwd=RFRveFIrbWR0TWIzRmRleHhOTjV5QT09', 'Начало': '8:30'}}}\n"
     ]
    }
   ],
   "source": [
    "main()"
   ]
  },
  {
   "cell_type": "code",
   "execution_count": 70,
   "metadata": {},
   "outputs": [],
   "source": [
    "a = {'Вторник': {'2': {'Название предмета': 'Анализ данных л/р', 'Ссылка': 'https://us04web.zoom.us/j/8402679888?pwd=ZTRQNzA1MVBmeVV0SEl5VTBjdDFrdz09', 'Начало': '10:25'}}, 'Среда': {'1': {'Название предмета': 'Методы теории надежности и риска лекц.', 'Ссылка': 'https://us04web.zoom.us/j/7620255592?pwd=RFRveFIrbWR0TWIzRmRleHhOTjV5QT09', 'Начало': '8:30'}, '2': {'Название предмета': 'Анализ данных лекц.', 'Ссылка': 'https://us04web.zoom.us/j/8402679888?pwd=ZTRQNzA1MVBmeVV0SEl5VTBjdDFrdz09', 'Начало': '10:25'}, '3': {'Название предмета': 'Анализ данных лекц. 2', 'Ссылка': 'https://us04web.zoom.us/j/8402679888?pwd=ZTRQNzA1MVBmeVV0SEl5VTBjdDFrdz09', 'Начало': '12:20'}, '4': {'Название предмета': 'Основы нелинейного анализа лекц.', 'Ссылка': 'https://zoom.us/j/95012997687?pwd=VktkcHo1eE1UYkRQNk95Vlp0WlArZz09', 'Начало': '14:15 (14:30)'}}, 'Четверг': {'1': {'Название предмета': 'Спец. разделы криптографии лекц.', 'Ссылка': 'https://us04web.zoom.us/j/2179124171?pwd=V2ZrOVVRRTlrellFc1VaU1dqdHFhUT09', 'Начало': '8:30 (9:00)'}, '2': {'Название предмета': 'Спец. разделы криптографии л/р', 'Ссылка': 'https://us04web.zoom.us/j/74059992745?pwd=SlIxR2pibEdteXc5R1RUZjRCSE56dz09', 'Начало': '10:25'}, '3': {'Название предмета': 'Основы нелинейного анализа лекц.', 'Ссылка': 'https://zoom.us/j/98391824708?pwd=VGY3ejZGaFFCZzlnODJnSElGNW5hZz09', 'Начало': '12:20 (12:30)'}, '4': {'Название предмета': 'Основы нелинейного анализа пр.', 'Ссылка': 'https://zoom.us/j/98391824708?pwd=VGY3ejZGaFFCZzlnODJnSElGNW5hZz09', 'Начало': '14:15 (14:30)'}, '5': {'Название предмета': 'Спец. разделы криптографии лекц. 2', 'Ссылка': 'Должна быть на почте', 'Начало': '16:10'}}, 'Пятница': {'1': {'Название предмета': 'Методы теории надежности и риска пр.', 'Ссылка': 'https://us04web.zoom.us/j/7620255592?pwd=RFRveFIrbWR0TWIzRmRleHhOTjV5QT09', 'Начало': '8:30'}}}"
   ]
  },
  {
   "cell_type": "code",
   "execution_count": 71,
   "metadata": {},
   "outputs": [
    {
     "name": "stdout",
     "output_type": "stream",
     "text": [
      "{'Название предмета': 'Анализ данных л/р', 'Ссылка': 'https://us04web.zoom.us/j/8402679888?pwd=ZTRQNzA1MVBmeVV0SEl5VTBjdDFrdz09', 'Начало': '10:25'}\n",
      "{'Название предмета': 'Методы теории надежности и риска лекц.', 'Ссылка': 'https://us04web.zoom.us/j/7620255592?pwd=RFRveFIrbWR0TWIzRmRleHhOTjV5QT09', 'Начало': '8:30'}\n",
      "{'Название предмета': 'Анализ данных лекц.', 'Ссылка': 'https://us04web.zoom.us/j/8402679888?pwd=ZTRQNzA1MVBmeVV0SEl5VTBjdDFrdz09', 'Начало': '10:25'}\n",
      "{'Название предмета': 'Анализ данных лекц. 2', 'Ссылка': 'https://us04web.zoom.us/j/8402679888?pwd=ZTRQNzA1MVBmeVV0SEl5VTBjdDFrdz09', 'Начало': '12:20'}\n",
      "{'Название предмета': 'Основы нелинейного анализа лекц.', 'Ссылка': 'https://zoom.us/j/95012997687?pwd=VktkcHo1eE1UYkRQNk95Vlp0WlArZz09', 'Начало': '14:15 (14:30)'}\n",
      "{'Название предмета': 'Спец. разделы криптографии лекц.', 'Ссылка': 'https://us04web.zoom.us/j/2179124171?pwd=V2ZrOVVRRTlrellFc1VaU1dqdHFhUT09', 'Начало': '8:30 (9:00)'}\n",
      "{'Название предмета': 'Спец. разделы криптографии л/р', 'Ссылка': 'https://us04web.zoom.us/j/74059992745?pwd=SlIxR2pibEdteXc5R1RUZjRCSE56dz09', 'Начало': '10:25'}\n",
      "{'Название предмета': 'Основы нелинейного анализа лекц.', 'Ссылка': 'https://zoom.us/j/98391824708?pwd=VGY3ejZGaFFCZzlnODJnSElGNW5hZz09', 'Начало': '12:20 (12:30)'}\n",
      "{'Название предмета': 'Основы нелинейного анализа пр.', 'Ссылка': 'https://zoom.us/j/98391824708?pwd=VGY3ejZGaFFCZzlnODJnSElGNW5hZz09', 'Начало': '14:15 (14:30)'}\n",
      "{'Название предмета': 'Спец. разделы криптографии лекц. 2', 'Ссылка': 'Должна быть на почте', 'Начало': '16:10'}\n",
      "{'Название предмета': 'Методы теории надежности и риска пр.', 'Ссылка': 'https://us04web.zoom.us/j/7620255592?pwd=RFRveFIrbWR0TWIzRmRleHhOTjV5QT09', 'Начало': '8:30'}\n"
     ]
    }
   ],
   "source": [
    "for day in a:\n",
    "    for lesson in a[day]:\n",
    "        print(a[day][lesson])"
   ]
  }
 ],
 "metadata": {
  "kernelspec": {
   "display_name": "Python 3",
   "language": "python",
   "name": "python3"
  },
  "language_info": {
   "codemirror_mode": {
    "name": "ipython",
    "version": 3
   },
   "file_extension": ".py",
   "mimetype": "text/x-python",
   "name": "python",
   "nbconvert_exporter": "python",
   "pygments_lexer": "ipython3",
   "version": "3.8.3"
  }
 },
 "nbformat": 4,
 "nbformat_minor": 4
}
