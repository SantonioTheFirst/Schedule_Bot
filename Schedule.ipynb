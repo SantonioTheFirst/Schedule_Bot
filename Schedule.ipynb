{
 "cells": [
  {
   "cell_type": "code",
   "execution_count": 2,
   "metadata": {},
   "outputs": [],
   "source": [
    "from typing import List, Dict\n",
    "import json"
   ]
  },
  {
   "cell_type": "code",
   "execution_count": 141,
   "metadata": {},
   "outputs": [],
   "source": [
    "class Schedule:\n",
    "    def __init__(self, schedule_filename : str = 'schedule.json', count_of_groups : int = 1, count_of_days : int = 5) -> None:\n",
    "        assert len(schedule_filename) > 0, 'Пустое имя файла!'\n",
    "        assert count_of_groups > 0, 'Количество групп должно быть > 0'\n",
    "        \n",
    "        self.schedule_filename : str = schedule_filename\n",
    "        self.count_of_groups : int = count_of_groups\n",
    "        self.count_of_days : int = count_of_days\n",
    "        self.schedule = {}\n",
    "        print('Введите названия групп: ')\n",
    "        for i in range(self.count_of_groups):\n",
    "            group = input('\\tГруппа: ')\n",
    "            chat_id = input('\\t\\tchat_id: ')\n",
    "            self.schedule[group] = {'chat_id' : {'id' : chat_id}, 'days' : {}}\n",
    "            count_of_days = int(input(f'\\t\\tКоличество дней с занятиями для группы {group}: '))\n",
    "            for j in range(count_of_days):\n",
    "                self.schedule[group]['days'][input('\\t\\t\\tДень: ')] = {}\n",
    "\n",
    "    \n",
    "    def append_lessons_for_week(self) -> None:\n",
    "        for group in self.schedule:\n",
    "            print(f'Группа {group}')\n",
    "            \n",
    "            for day in self.schedule[group]['days']:\n",
    "                number_of_lessons : int = int(input(f'\\tКоличество занятий в {day}: '))\n",
    "                assert day in self.schedule[group]['days'], f'Такого дня не было в списке дней {day}'\n",
    "                assert number_of_lessons > 0, 'Количество занятий не может быть < 1'\n",
    "                for i in range(number_of_lessons):\n",
    "                    param_name : List[str] = ['Номер пары', 'Название предмета', 'Ссылка', 'Начало']\n",
    "                    param_data : List[str] = [input(f'\\t\\t{param}: ') for param in param_name]\n",
    "                    if len(self.schedule[group]['days'][day]) == 0:\n",
    "                        self.schedule[group]['days'][day] = {}\n",
    "                    self.schedule[group]['days'][day][param_data[0]] = {par_n : par_d for par_n, par_d in zip(param_name[1 :], param_data[1:])}\n",
    "    \n",
    "    \n",
    "    def append_group_and_lessons(self) -> None:\n",
    "        group = input('Название группы: ')\n",
    "        self.schedule[group] = {}\n",
    "        self.schedule[group]['chat_id'] = {'id' : input('\\tchat_id: ')}\n",
    "        count_of_days = int(input('\\tКоличество дней с занятиями для группы: '))\n",
    "        days = {input('\\t\\tДень: ') : {} for _ in range(count_of_days)}\n",
    "        \n",
    "        self.schedule[group]['days'] = days\n",
    "        for day in self.schedule[group]['days']:\n",
    "            number_of_lessons : int = int(input(f'\\tКоличество занятий в {day}: '))\n",
    "            assert day in self.schedule[group]['days'], f'Такого дня не было в списке дней {day}'\n",
    "            assert number_of_lessons > 0, 'Количество занятий не может быть < 1'\n",
    "            for i in range(number_of_lessons):\n",
    "                param_name : List[str] = ['Номер пары', 'Название предмета', 'Ссылка', 'Начало']\n",
    "                param_data : List[str] = [input(f'\\t\\t{param}: ') for param in param_name]\n",
    "                self.schedule[group]['days'][day][param_data[0]] = {par_n : par_d for par_n, par_d in zip(param_name[1 :], param_data[1:])}\n",
    "    \n",
    "    \n",
    "    def set_schedule(self, schedule):\n",
    "        self.schedule = schedule\n",
    "    \n",
    "    \n",
    "    def get_days(self) -> List[str]:\n",
    "        return self.days\n",
    "    \n",
    "    \n",
    "    def get_schedule_filename(self) -> str:\n",
    "        return self.schedule_filename\n",
    "        \n",
    "        \n",
    "    def get_schedule(self) -> Dict[str, Dict[str, Dict[str, str]]]:\n",
    "        return self.schedule\n",
    "    \n",
    "    \n",
    "    def create_json_file(self) -> None:\n",
    "        with open(f'{self.schedule_filename}', 'w', encoding = 'utf-8') as f:\n",
    "            json.dump(self.schedule, f, indent = 4)"
   ]
  },
  {
   "cell_type": "code",
   "execution_count": 150,
   "metadata": {},
   "outputs": [
    {
     "name": "stdout",
     "output_type": "stream",
     "text": [
      "Введите названия групп: \n",
      "\tГруппа: ФИ-73\n",
      "\t\tchat_id: -1001086397685\n",
      "\t\tКоличество дней с занятиями для группы ФИ-73: 4\n",
      "\t\t\tДень: Вторник\n",
      "\t\t\tДень: Среда\n",
      "\t\t\tДень: Четверг\n",
      "\t\t\tДень: Пятница\n",
      "\tГруппа: ФИ-71/72\n",
      "\t\tchat_id: -413206784\n",
      "\t\tКоличество дней с занятиями для группы ФИ-71/72: 4\n",
      "\t\t\tДень: Вторник\n",
      "\t\t\tДень: Среда\n",
      "\t\t\tДень: Четверг\n",
      "\t\t\tДень: Пятница\n"
     ]
    }
   ],
   "source": [
    "S = Schedule(count_of_groups = 2)"
   ]
  },
  {
   "cell_type": "code",
   "execution_count": 151,
   "metadata": {},
   "outputs": [
    {
     "data": {
      "text/plain": [
       "{'ФИ-73': {'chat_id': {'id': '-1001086397685'},\n",
       "  'days': {'Вторник': {}, 'Среда': {}, 'Четверг': {}, 'Пятница': {}}},\n",
       " 'ФИ-71/72': {'chat_id': {'id': '-413206784'},\n",
       "  'days': {'Вторник': {}, 'Среда': {}, 'Четверг': {}, 'Пятница': {}}}}"
      ]
     },
     "execution_count": 151,
     "metadata": {},
     "output_type": "execute_result"
    }
   ],
   "source": [
    "S.get_schedule()"
   ]
  },
  {
   "cell_type": "code",
   "execution_count": 152,
   "metadata": {},
   "outputs": [
    {
     "name": "stdout",
     "output_type": "stream",
     "text": [
      "Группа ФИ-73\n",
      "\tКоличество занятий в Вторник: 1\n",
      "\t\tНомер пары: 2\n",
      "\t\tНазвание предмета: Анализ данных л/р (Ланде)\n",
      "\t\tСсылка: https://us04web.zoom.us/j/8402679888?pwd=ZTRQNzA1MVBmeVV0SEl5VTBjdDFrdz09\n",
      "\t\tНачало: 10:25\n",
      "\tКоличество занятий в Среда: 4\n",
      "\t\tНомер пары: 1\n",
      "\t\tНазвание предмета: Методы теории надежности и риска лекц. (Кузнецов)\n",
      "\t\tСсылка: https://us04web.zoom.us/j/7620255592?pwd=RFRveFIrbWR0TWIzRmRleHhOTjV5QT09\n",
      "\t\tНачало: 8:30\n",
      "\t\tНомер пары: 2\n",
      "\t\tНазвание предмета: Анализ данных лекц.1 (Ланде)\n",
      "\t\tСсылка: https://us04web.zoom.us/j/8402679888?pwd=ZTRQNzA1MVBmeVV0SEl5VTBjdDFrdz09\n",
      "\t\tНачало: 10:25\n",
      "\t\tНомер пары: 3\n",
      "\t\tНазвание предмета: Анализ данных лекц.2 (Ланде)\n",
      "\t\tСсылка: https://us04web.zoom.us/j/8402679888?pwd=ZTRQNzA1MVBmeVV0SEl5VTBjdDFrdz09\n",
      "\t\tНачало: 12:20\n",
      "\t\tНомер пары: 4\n",
      "\t\tНазвание предмета: Основы нелинейного анализа лекц. (Кравцов)\n",
      "\t\tСсылка: https://zoom.us/j/95012997687?pwd=VktkcHo1eE1UYkRQNk95Vlp0WlArZz09\n",
      "\t\tНачало: 14:15 (14:30)\n",
      "\tКоличество занятий в Четверг: 5\n",
      "\t\tНомер пары: 1\n",
      "\t\tНазвание предмета: Спец. разделы криптографии лекц. (Ковальчук)\n",
      "\t\tСсылка: https://us04web.zoom.us/j/2179124171?pwd=V2ZrOVVRRTlrellFc1VaU1dqdHFhUT09\n",
      "\t\tНачало: 8:30 (9:00)\n",
      "\t\tНомер пары: 2\n",
      "\t\tНазвание предмета: Спец. разделы криптографии л/р (Фесенко)\n",
      "\t\tСсылка: https://us04web.zoom.us/j/74059992745?pwd=SlIxR2pibEdteXc5R1RUZjRCSE56dz09\n",
      "\t\tНачало: 10:25\n",
      "\t\tНомер пары: 3\n",
      "\t\tНазвание предмета: Основы нелинейного анализа лекц. (Кравцов)\n",
      "\t\tСсылка: https://zoom.us/j/98391824708?pwd=VGY3ejZGaFFCZzlnODJnSElGNW5hZz09\n",
      "\t\tНачало: 12:20 (12:30)\n",
      "\t\tНомер пары: 4\n",
      "\t\tНазвание предмета: Основы нелинейного анализа пр. (Кравцов)\n",
      "\t\tСсылка: https://zoom.us/j/98391824708?pwd=VGY3ejZGaFFCZzlnODJnSElGNW5hZz09\n",
      "\t\tНачало: 14:15 (14:30)\n",
      "\t\tНомер пары: 5\n",
      "\t\tНазвание предмета: Спец. разделы криптографии лекц. (Кудин)\n",
      "\t\tСсылка: Должна быть на почте\n",
      "\t\tНачало: 16:10\n",
      "\tКоличество занятий в Пятница: 1\n",
      "\t\tНомер пары: 1\n",
      "\t\tНазвание предмета: Методы теории надежности и риска пр. (Кузнецов)\n",
      "\t\tСсылка: https://us04web.zoom.us/j/7620255592?pwd=RFRveFIrbWR0TWIzRmRleHhOTjV5QT09\n",
      "\t\tНачало: 8:30\n",
      "Группа ФИ-71/72\n",
      "\tКоличество занятий в Вторник: 1\n",
      "\t\tНомер пары: 3\n",
      "\t\tНазвание предмета: Анализ данных л/р (Ланде)\n",
      "\t\tСсылка: https://us04web.zoom.us/j/8402679888?pwd=ZTRQNzA1MVBmeVV0SEl5VTBjdDFrdz09\n",
      "\t\tНачало: 12:20\n",
      "\tКоличество занятий в Среда: 4\n",
      "\t\tНомер пары: 1\n",
      "\t\tНазвание предмета: Методы теории надежности и риска лекц. (Кузнецов)\n",
      "\t\tСсылка: https://us04web.zoom.us/j/7620255592?pwd=RFRveFIrbWR0TWIzRmRleHhOTjV5QT09\n",
      "\t\tНачало: 8:30\n",
      "\t\tНомер пары: 2\n",
      "\t\tНазвание предмета: Анализ данных лекц.1 (Ланде)\n",
      "\t\tСсылка: https://us04web.zoom.us/j/8402679888?pwd=ZTRQNzA1MVBmeVV0SEl5VTBjdDFrdz09\n",
      "\t\tНачало: 10:25\n",
      "\t\tНомер пары: 3\n",
      "\t\tНазвание предмета: Анализ данных лекц.2 (Ланде)\n",
      "\t\tСсылка: https://us04web.zoom.us/j/8402679888?pwd=ZTRQNzA1MVBmeVV0SEl5VTBjdDFrdz09\n",
      "\t\tНачало: 12:20\n",
      "\t\tНомер пары: 4\n",
      "\t\tНазвание предмета: Основы нелинейного анализа лекц. (Кравцов)\n",
      "\t\tСсылка: https://zoom.us/j/95012997687?pwd=VktkcHo1eE1UYkRQNk95Vlp0WlArZz09\n",
      "\t\tНачало: 14:15 (14:30)\n",
      "\tКоличество занятий в Четверг: 2\n",
      "\t\tНомер пары: 3\n",
      "\t\tНазвание предмета: Основы нелинейного анализа лекц. (Кравцов)\n",
      "\t\tСсылка: https://zoom.us/j/98391824708?pwd=VGY3ejZGaFFCZzlnODJnSElGNW5hZz09\n",
      "\t\tНачало: 12:20 (12:30)\n",
      "\t\tНомер пары: 4\n",
      "\t\tНазвание предмета: Основы нелинейного анализа пр. (Кравцов)\n",
      "\t\tСсылка: https://zoom.us/j/98391824708?pwd=VGY3ejZGaFFCZzlnODJnSElGNW5hZz09\n",
      "\t\tНачало: 14:15 (14:30)\n",
      "\tКоличество занятий в Пятница: 4\n",
      "\t\tНомер пары: 1\n",
      "\t\tНазвание предмета: Методы теории надежности и риска лекц. (Кузнецов)\n",
      "\t\tСсылка: https://us04web.zoom.us/j/7620255592?pwd=RFRveFIrbWR0TWIzRmRleHhOTjV5QT09\n",
      "\t\tНачало: 8:30\n",
      "\t\tНомер пары: 2\n",
      "\t\tНазвание предмета: МПЕСП лекц. (Макаренко)\n",
      "\t\tСсылка: https://us04web.zoom.us/j/71313661009?pwd=WEV3ampuRGVZTXRKcUxhWDlqenVuUT09\n",
      "\t\tНачало: 10:25\n",
      "\t\tНомер пары: 3\n",
      "\t\tНазвание предмета: МПЕСП лекц. (Макаренко)\n",
      "\t\tСсылка: https://us04web.zoom.us/j/71313661009?pwd=WEV3ampuRGVZTXRKcUxhWDlqenVuUT09\n",
      "\t\tНачало: 12:20\n",
      "\t\tНомер пары: 4\n",
      "\t\tНазвание предмета: МПЕСП л/р (Макаренко)\n",
      "\t\tСсылка: https://us04web.zoom.us/j/71313661009?pwd=WEV3ampuRGVZTXRKcUxhWDlqenVuUT09\n",
      "\t\tНачало: 14:15\n"
     ]
    }
   ],
   "source": [
    "S.append_lessons_for_week()"
   ]
  },
  {
   "cell_type": "code",
   "execution_count": 147,
   "metadata": {},
   "outputs": [
    {
     "name": "stdout",
     "output_type": "stream",
     "text": [
      "Название группы: FI-74\n",
      "\tchat_id: fi74\n",
      "\tКоличество дней с занятиями для группы: 1\n",
      "\t\tДень: Tue\n",
      "\tКоличество занятий в Tue: 1\n",
      "\t\tНомер пары: 2\n",
      "\t\tНазвание предмета: Lande\n",
      "\t\tСсылка: -\n",
      "\t\tНачало: 10:25\n"
     ]
    }
   ],
   "source": [
    "S.append_group_and_lessons()"
   ]
  },
  {
   "cell_type": "code",
   "execution_count": 153,
   "metadata": {},
   "outputs": [],
   "source": [
    "S.create_json_file()"
   ]
  }
 ],
 "metadata": {
  "kernelspec": {
   "display_name": "Python 3",
   "language": "python",
   "name": "python3"
  },
  "language_info": {
   "codemirror_mode": {
    "name": "ipython",
    "version": 3
   },
   "file_extension": ".py",
   "mimetype": "text/x-python",
   "name": "python",
   "nbconvert_exporter": "python",
   "pygments_lexer": "ipython3",
   "version": "3.8.3"
  }
 },
 "nbformat": 4,
 "nbformat_minor": 4
}
